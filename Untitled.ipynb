{
 "cells": [
  {
   "cell_type": "code",
   "execution_count": 39,
   "id": "f82baf9a",
   "metadata": {},
   "outputs": [],
   "source": [
    "from flask import Flask, render_template, request, redirect, url_for, jsonify \n",
    "import psycopg2 \n",
    "\n",
    "from sqlalchemy import create_engine\n",
    "\n",
    "\n",
    "\n",
    "import pandas as pd"
   ]
  },
  {
   "cell_type": "code",
   "execution_count": 22,
   "id": "25916ae6",
   "metadata": {},
   "outputs": [],
   "source": [
    "# query=  \"SELECT * FROM gold\""
   ]
  },
  {
   "cell_type": "code",
   "execution_count": 24,
   "id": "cf1ea1bd",
   "metadata": {},
   "outputs": [],
   "source": [
    "# df = pd.read_sql(query, conn)"
   ]
  },
  {
   "cell_type": "code",
   "execution_count": null,
   "id": "56bb14e5",
   "metadata": {},
   "outputs": [],
   "source": []
  },
  {
   "cell_type": "code",
   "execution_count": 41,
   "id": "457ef2ae",
   "metadata": {},
   "outputs": [],
   "source": [
    "conn = psycopg2.connect(database=\"Currency_db\",  \n",
    "                    user=\"postgres\", \n",
    "                    password=\"postgres\",  \n",
    "                     port=\"5432\")\n",
    "                "
   ]
  },
  {
   "cell_type": "code",
   "execution_count": 42,
   "id": "97680141",
   "metadata": {},
   "outputs": [],
   "source": [
    "query = \"SELECT * FROM bitcoin\""
   ]
  },
  {
   "cell_type": "code",
   "execution_count": 43,
   "id": "7ebed3a3",
   "metadata": {},
   "outputs": [
    {
     "name": "stderr",
     "output_type": "stream",
     "text": [
      "C:\\Users\\tj_da\\AppData\\Local\\Temp\\ipykernel_29984\\1168034203.py:1: UserWarning: pandas only supports SQLAlchemy connectable (engine/connection) or database string URI or sqlite3 DBAPI2 connection. Other DBAPI2 objects are not tested. Please consider using SQLAlchemy.\n",
      "  df = pd.read_sql(query, conn)\n"
     ]
    }
   ],
   "source": [
    "df = pd.read_sql(query, conn)"
   ]
  },
  {
   "cell_type": "code",
   "execution_count": null,
   "id": "11054863",
   "metadata": {},
   "outputs": [],
   "source": []
  },
  {
   "cell_type": "code",
   "execution_count": 46,
   "id": "9de74970",
   "metadata": {},
   "outputs": [],
   "source": [
    "\n",
    "def get_data():\n",
    "    conn = psycopg2.connect(database=\"Currency_db\",\n",
    "                        user=\"postgres\",\n",
    "                        password=\"postgres\",\n",
    "                        port=\"5432\")\n",
    "    query = \"SELECT * FROM bitcoin\"\n",
    "    data = pd.read_sql(query, conn)\n",
    "    return (data.to_json)"
   ]
  },
  {
   "cell_type": "code",
   "execution_count": 47,
   "id": "9b3b87af",
   "metadata": {},
   "outputs": [
    {
     "name": "stderr",
     "output_type": "stream",
     "text": [
      "C:\\Users\\tj_da\\AppData\\Local\\Temp\\ipykernel_29984\\2904252317.py:7: UserWarning: pandas only supports SQLAlchemy connectable (engine/connection) or database string URI or sqlite3 DBAPI2 connection. Other DBAPI2 objects are not tested. Please consider using SQLAlchemy.\n",
      "  data = pd.read_sql(query, conn)\n"
     ]
    },
    {
     "data": {
      "text/plain": [
       "<bound method NDFrame.to_json of      Month_Year  Closing_Price        Volume  column1\n",
       "0    2014-10-01     338.321014     902994450        0\n",
       "1    2014-11-01     378.046997     659733360        1\n",
       "2    2014-12-01     320.192993     553102310        2\n",
       "3    2015-01-01     217.464005    1098811912        3\n",
       "4    2015-02-01     254.263000     711518700        4\n",
       "..          ...            ...           ...      ...\n",
       "103  2023-05-01   27219.658203  443473015479      103\n",
       "104  2023-06-01   30477.251953  481734214225      104\n",
       "105  2023-07-01   29230.111328  382224489090      105\n",
       "106  2023-08-01   25931.472656  437724169499      106\n",
       "107  2023-09-01   26967.916016  337637313742      107\n",
       "\n",
       "[108 rows x 4 columns]>"
      ]
     },
     "execution_count": 47,
     "metadata": {},
     "output_type": "execute_result"
    }
   ],
   "source": [
    "get_data()"
   ]
  },
  {
   "cell_type": "code",
   "execution_count": null,
   "id": "fc5e588d",
   "metadata": {},
   "outputs": [],
   "source": []
  }
 ],
 "metadata": {
  "kernelspec": {
   "display_name": "Python 3 (ipykernel)",
   "language": "python",
   "name": "python3"
  },
  "language_info": {
   "codemirror_mode": {
    "name": "ipython",
    "version": 3
   },
   "file_extension": ".py",
   "mimetype": "text/x-python",
   "name": "python",
   "nbconvert_exporter": "python",
   "pygments_lexer": "ipython3",
   "version": "3.10.9"
  }
 },
 "nbformat": 4,
 "nbformat_minor": 5
}
