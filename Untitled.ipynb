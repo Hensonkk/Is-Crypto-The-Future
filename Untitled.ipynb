{
 "cells": [
  {
   "cell_type": "code",
   "execution_count": 1,
   "id": "0e5243f8",
   "metadata": {},
   "outputs": [],
   "source": [
    "from flask import Flask, render_template, request, redirect, url_for, jsonify\n",
    "import psycopg2\n",
    "import pandas as pd"
   ]
  },
  {
   "cell_type": "code",
   "execution_count": 5,
   "id": "7771b17b",
   "metadata": {},
   "outputs": [],
   "source": [
    "def get_bitcoin():\n",
    "    conn = psycopg2.connect(database=\"Currency_db\", user=\"postgres\", password=\"postgres\", port=\"5432\")\n",
    "    query = \"SELECT * FROM bitcoin\"\n",
    "    data = pd.read_sql(query, conn)\n",
    "    conn.close()\n",
    "    return (data.to_json)"
   ]
  },
  {
   "cell_type": "code",
   "execution_count": 6,
   "id": "1e38e39b",
   "metadata": {},
   "outputs": [
    {
     "name": "stderr",
     "output_type": "stream",
     "text": [
      "/var/folders/jq/v09bhc5d2111vbxp7qgxxq4m0000gn/T/ipykernel_4417/1086681843.py:4: UserWarning: pandas only supports SQLAlchemy connectable (engine/connection) or database string URI or sqlite3 DBAPI2 connection. Other DBAPI2 objects are not tested. Please consider using SQLAlchemy.\n",
      "  data = pd.read_sql(query, conn)\n"
     ]
    },
    {
     "data": {
      "text/plain": [
       "<bound method NDFrame.to_json of      month_year  closing_price        volume  column1\n",
       "0    2014-10-01        338.321     902994450        0\n",
       "1    2014-11-01        378.047     659733360        1\n",
       "2    2014-12-01        320.193     553102310        2\n",
       "3    2015-01-01        217.464    1098811912        3\n",
       "4    2015-02-01        254.263     711518700        4\n",
       "..          ...            ...           ...      ...\n",
       "103  2023-05-01      27219.658  443473015479      103\n",
       "104  2023-06-01      30477.252  481734214225      104\n",
       "105  2023-07-01      29230.111  382224489090      105\n",
       "106  2023-08-01      25931.473  437724169499      106\n",
       "107  2023-09-01      26967.916  337637313742      107\n",
       "\n",
       "[108 rows x 4 columns]>"
      ]
     },
     "execution_count": 6,
     "metadata": {},
     "output_type": "execute_result"
    }
   ],
   "source": [
    "get_bitcoin()"
   ]
  },
  {
   "cell_type": "code",
   "execution_count": 7,
   "id": "5c66c960",
   "metadata": {},
   "outputs": [
    {
     "data": {
      "text/plain": [
       "function"
      ]
     },
     "execution_count": 7,
     "metadata": {},
     "output_type": "execute_result"
    }
   ],
   "source": [
    "type(get_bitcoin)"
   ]
  },
  {
   "cell_type": "code",
   "execution_count": null,
   "id": "668d2f92",
   "metadata": {},
   "outputs": [],
   "source": []
  }
 ],
 "metadata": {
  "kernelspec": {
   "display_name": "Python 3 (ipykernel)",
   "language": "python",
   "name": "python3"
  },
  "language_info": {
   "codemirror_mode": {
    "name": "ipython",
    "version": 3
   },
   "file_extension": ".py",
   "mimetype": "text/x-python",
   "name": "python",
   "nbconvert_exporter": "python",
   "pygments_lexer": "ipython3",
   "version": "3.10.12"
  }
 },
 "nbformat": 4,
 "nbformat_minor": 5
}
